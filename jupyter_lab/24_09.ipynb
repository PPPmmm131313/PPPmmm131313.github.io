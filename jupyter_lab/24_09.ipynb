{
 "cells": [
  {
   "cell_type": "markdown",
   "id": "e42d258c-d2b6-429a-bf20-f2b65213be91",
   "metadata": {},
   "source": [
    "Начнем традиционно с вывода (\"всеми любимого\") словосочетания "
   ]
  },
  {
   "cell_type": "code",
   "execution_count": 212,
   "id": "fe3db614-fc72-46c9-9c10-b83707f59961",
   "metadata": {},
   "outputs": [
    {
     "name": "stdout",
     "output_type": "stream",
     "text": [
      "Hello, Word!\n"
     ]
    }
   ],
   "source": [
    "print('Hello, Word!')"
   ]
  },
  {
   "cell_type": "markdown",
   "id": "35c0a0b5-977f-4730-bb12-b7bf77590d4b",
   "metadata": {},
   "source": [
    "в конце немного подробнее остановимся с print()"
   ]
  },
  {
   "cell_type": "code",
   "execution_count": null,
   "id": "e67e6b13-8a51-47eb-bb1f-1f57ab65307c",
   "metadata": {},
   "outputs": [],
   "source": []
  },
  {
   "cell_type": "code",
   "execution_count": null,
   "id": "32882b06-2a35-4869-8787-31cbcf5910e5",
   "metadata": {},
   "outputs": [],
   "source": []
  },
  {
   "cell_type": "code",
   "execution_count": null,
   "id": "8885fdc9-ce1e-462b-90f6-336378680c34",
   "metadata": {},
   "outputs": [],
   "source": []
  },
  {
   "cell_type": "code",
   "execution_count": null,
   "id": "089f8163-d87b-4fc5-b473-2911d6f704c3",
   "metadata": {},
   "outputs": [],
   "source": []
  },
  {
   "cell_type": "code",
   "execution_count": null,
   "id": "ff7f899e-3260-4566-ad05-9a90a5892983",
   "metadata": {},
   "outputs": [],
   "source": []
  },
  {
   "cell_type": "code",
   "execution_count": null,
   "id": "7ab7692d-ea9d-4b7a-8c73-930442e946dd",
   "metadata": {},
   "outputs": [],
   "source": []
  },
  {
   "cell_type": "code",
   "execution_count": null,
   "id": "882157c4-73d4-4c26-bb9d-1dbb682060bd",
   "metadata": {},
   "outputs": [],
   "source": []
  },
  {
   "cell_type": "code",
   "execution_count": null,
   "id": "e3fa7a89-d706-4e0a-8f23-1334e17a5d1e",
   "metadata": {},
   "outputs": [],
   "source": []
  },
  {
   "cell_type": "code",
   "execution_count": null,
   "id": "49bc67fa-7252-43bb-a2c0-3e11509f7e66",
   "metadata": {},
   "outputs": [],
   "source": []
  },
  {
   "cell_type": "code",
   "execution_count": null,
   "id": "6297f9bb-02a0-4b4c-82da-5fbe0812102e",
   "metadata": {},
   "outputs": [],
   "source": []
  },
  {
   "cell_type": "code",
   "execution_count": null,
   "id": "dbb671a8-06df-404b-80bf-210bce1c20f2",
   "metadata": {},
   "outputs": [],
   "source": []
  },
  {
   "cell_type": "markdown",
   "id": "1272b32a-3a6f-42f9-a9cc-7ed4e3edaf98",
   "metadata": {},
   "source": [
    "# Типы и структуры данных <br> Операторы сравнения, ветвления, цикла"
   ]
  },
  {
   "cell_type": "markdown",
   "id": "aa37aa0a-e21d-4ffc-b7ff-487ad1d451c6",
   "metadata": {},
   "source": [
    "В этом ноутбуке мы кратко рассмотрим простейшие выстроенные в Python типы данных. <br>\n",
    "Простейшие - по сравнению с составными данными (структурами), которые мы рассмотрим позднее.\n",
    "\n",
    "Простейшие типы данных Python\n",
    "\n",
    "| Тип        | Пример     | Описание                     |\n",
    "|------------|------------|------------------------------|\n",
    "| `int`      | x = 1      | целые числа                  |\n",
    "| `float`    | x = 1.0    | числа с плавающей запятой    |\n",
    "| `complex`  | x = 1 + 2j | комплексные числа            |\n",
    "| `bool`     | x = True   | логические (булевы) значения |\n",
    "| `str`      | x = 'abc'  | строки: символы или текст    |\n",
    "| `NoneType` | x = None   | спец. \\\"пустой\\\" объект None |\n",
    "\n",
    "\n",
    "Эти типы, как и всё в Python - функции, крупные структуры данных и программы - реализованы как объекты: сущности, к которым применимы методы и основные принципы объектно-ориентированного программирования.\n",
    "\n",
    "В Python все сущности являются экземплярами какого-то класса - объектами. \n",
    "\n",
    "Типы и структуры данных - не исключение. \n",
    "\n",
    "Узнать, какому классу принажлежит, например, объект x, можно с помощью функции type, как показано ниже\n",
    "\n",
    "Переменные в Python не нуждаются в обязательном их объявлении для выделения им памяти. \n",
    "\n",
    "Объявление (присваивание, назначение и т.п.) переменной и выделение памяти для хранения её значения выполняется в тот момент, когда вы задаёте какие-то данные (присваиваете значение) этой переменной. \n",
    "\n",
    "Для этого используется символ равенства (=)"
   ]
  },
  {
   "cell_type": "markdown",
   "id": "a310bc19-5057-4d4f-9251-5a51934fab8a",
   "metadata": {},
   "source": [
    "## Integers"
   ]
  },
  {
   "cell_type": "code",
   "execution_count": 78,
   "id": "5e92a15b-7ca8-4e6c-a270-7718c21d698f",
   "metadata": {},
   "outputs": [
    {
     "data": {
      "text/plain": [
       "int"
      ]
     },
     "execution_count": 78,
     "metadata": {},
     "output_type": "execute_result"
    }
   ],
   "source": [
    "x = 12\n",
    "type(x)"
   ]
  },
  {
   "cell_type": "code",
   "execution_count": 80,
   "id": "e79b1887-b09f-47b0-bdd0-79ee65eab258",
   "metadata": {},
   "outputs": [
    {
     "data": {
      "text/plain": [
       "1606938044258990275541962092341162602522202993782792835301376000000000000000000000000000000000000000000000000000000000000000000000000000000000000000000000000000000000000000000000000000000000000000000000000000000000000000000000000000000000000000000000000000000000000000000000000000000000000000000000000000000000000000000000000000000000000000000000000000000000000000000000000000000000000000000000000000000000000000000000000000000000000000000000000000000000000000000000000000000000000000000000000000000000000000000000000000000000000000000000000000000000000000000000000000000000000000000000000000000000000000000000000000000000000000000000000000000000000000000000000"
      ]
     },
     "execution_count": 80,
     "metadata": {},
     "output_type": "execute_result"
    }
   ],
   "source": [
    "# те, кто писал на С/С++ (int в Python обладают переменной длиной):\n",
    "2000**200"
   ]
  },
  {
   "cell_type": "code",
   "execution_count": 82,
   "id": "6ce1a4da-81fd-4818-8533-d43876ec2428",
   "metadata": {},
   "outputs": [
    {
     "name": "stdout",
     "output_type": "stream",
     "text": [
      "140715374952464\n",
      "140715374952464\n"
     ]
    },
    {
     "data": {
      "text/plain": [
       "True"
      ]
     },
     "execution_count": 82,
     "metadata": {},
     "output_type": "execute_result"
    }
   ],
   "source": [
    "# присваивая переменной значение другой переменной, вы создаёте ссылку на объект\n",
    "n = 200\n",
    "m = n\n",
    "\n",
    "\n",
    "# m и n указывают на одну и ту же область памяти, в которой хранится значение \"200\"\n",
    "# можно проверить это, проверив идентификатор объекта в интерпретаторе Python с помощью функции id()\n",
    "\n",
    "print(id(n))\n",
    "print(id(m))\n",
    "\n",
    "# проверить, ссылаются ли переменные на один и тот же объект в памяти, можно с помощью функции is()\n",
    "m is n"
   ]
  },
  {
   "cell_type": "code",
   "execution_count": 83,
   "id": "634df8c8-5231-4240-992f-86a0c180ef54",
   "metadata": {},
   "outputs": [
    {
     "name": "stdout",
     "output_type": "stream",
     "text": [
      "201 200\n"
     ]
    }
   ],
   "source": [
    "# однако, т.к. int - неизменяемый тип данных, изменив одну из переменных, мы сделаем её указателем на другой объект\n",
    "# после этого изменение одной из переменных не будут влиять на другую\n",
    "\n",
    "m += 1\n",
    "print(m, n)"
   ]
  },
  {
   "cell_type": "markdown",
   "id": "f4bc35d1-39e0-460d-adf5-15401e8f42cb",
   "metadata": {},
   "source": [
    "## Float"
   ]
  },
  {
   "cell_type": "code",
   "execution_count": 84,
   "id": "625b980d-c58b-4ef4-a058-de9bbe564eb5",
   "metadata": {},
   "outputs": [
    {
     "name": "stdout",
     "output_type": "stream",
     "text": [
      "2.5 <class 'float'>\n"
     ]
    }
   ],
   "source": [
    "a = 5/2\n",
    "print(a, type(a))"
   ]
  },
  {
   "cell_type": "markdown",
   "id": "ef61218b-faf1-4980-8de1-008204f508cf",
   "metadata": {},
   "source": [
    "float могут записываться как в десятичной, так и в \"научной/экспоненциальной\" нотации, что эквивалентно:"
   ]
  },
  {
   "cell_type": "code",
   "execution_count": 85,
   "id": "c23153a6-d6e2-4f94-b0a2-d8571559e95b",
   "metadata": {},
   "outputs": [
    {
     "name": "stdout",
     "output_type": "stream",
     "text": [
      "x: <class 'int'>\n",
      "y: <class 'float'>\n",
      "z: <class 'float'>\n",
      "True\n",
      "True\n",
      "True\n"
     ]
    }
   ],
   "source": [
    "x = 100500\n",
    "y = 100500.0\n",
    "z = 1005e+2\n",
    "print('x:', type(x))\n",
    "print('y:', type(y))\n",
    "print('z:', type(z))\n",
    "print(x==y)\n",
    "print(x==z)\n",
    "print(y==z)"
   ]
  },
  {
   "cell_type": "markdown",
   "id": "92524522-fa1e-444f-a7fa-03694d19f0dd",
   "metadata": {},
   "source": [
    "т.к. по умолчанию Python использует именно тип float для дробных чисел, т.е. хранит приблизительные значения десятичных дробей, имеет аккуратно применять опеатор сравнения"
   ]
  },
  {
   "cell_type": "code",
   "execution_count": 86,
   "id": "32411232-1c6a-4d90-a535-2cb46933c7af",
   "metadata": {},
   "outputs": [
    {
     "data": {
      "text/plain": [
       "False"
      ]
     },
     "execution_count": 86,
     "metadata": {},
     "output_type": "execute_result"
    }
   ],
   "source": [
    "0.1 + 0.2 == 0.3\n"
   ]
  },
  {
   "cell_type": "markdown",
   "id": "b21295e1-3ccd-4130-824a-66644403cd49",
   "metadata": {},
   "source": [
    "## Comlex"
   ]
  },
  {
   "cell_type": "code",
   "execution_count": 87,
   "id": "9945d46f-09c3-4f8f-a486-cea015ba6433",
   "metadata": {},
   "outputs": [
    {
     "data": {
      "text/plain": [
       "(3+4j)"
      ]
     },
     "execution_count": 87,
     "metadata": {},
     "output_type": "execute_result"
    }
   ],
   "source": [
    "complex(3, 4)"
   ]
  },
  {
   "cell_type": "code",
   "execution_count": 88,
   "id": "942f5562-15e3-4115-b3b0-625afcca518e",
   "metadata": {},
   "outputs": [
    {
     "data": {
      "text/plain": [
       "3.0"
      ]
     },
     "execution_count": 88,
     "metadata": {},
     "output_type": "execute_result"
    }
   ],
   "source": [
    "a = complex(3, 4)\n",
    "a.real"
   ]
  },
  {
   "cell_type": "code",
   "execution_count": 89,
   "id": "b8655c25-c0d0-46da-ad7d-6594085c386b",
   "metadata": {},
   "outputs": [
    {
     "data": {
      "text/plain": [
       "4.0"
      ]
     },
     "execution_count": 89,
     "metadata": {},
     "output_type": "execute_result"
    }
   ],
   "source": [
    "a.imag"
   ]
  },
  {
   "cell_type": "code",
   "execution_count": 90,
   "id": "fa97fa59-9cb7-4982-9f05-75d11b4b5dfd",
   "metadata": {},
   "outputs": [
    {
     "data": {
      "text/plain": [
       "(3-4j)"
      ]
     },
     "execution_count": 90,
     "metadata": {},
     "output_type": "execute_result"
    }
   ],
   "source": [
    "a.conjugate()"
   ]
  },
  {
   "cell_type": "code",
   "execution_count": 91,
   "id": "28996e90-8a69-4464-94f4-c80381363a49",
   "metadata": {},
   "outputs": [
    {
     "data": {
      "text/plain": [
       "5.0"
      ]
     },
     "execution_count": 91,
     "metadata": {},
     "output_type": "execute_result"
    }
   ],
   "source": [
    "abs(a)"
   ]
  },
  {
   "cell_type": "markdown",
   "id": "dea21dab-5f6b-4325-8cbd-77c085f863a0",
   "metadata": {},
   "source": [
    "## String\n",
    "\n",
    "По-настоящему полезными для вас будут строки - последовательности символов.\n",
    "\n",
    "В отличие от многих других языков программирования, один символ в Python - это тоже строка.\n",
    "\n",
    "Строки записываются в двойных или одинарных кавычках:"
   ]
  },
  {
   "cell_type": "code",
   "execution_count": 92,
   "id": "1ff87885-090a-4aa5-a830-1358073acac5",
   "metadata": {},
   "outputs": [
    {
     "data": {
      "text/plain": [
       "True"
      ]
     },
     "execution_count": 92,
     "metadata": {},
     "output_type": "execute_result"
    }
   ],
   "source": [
    "s1 = \"Some text\"\n",
    "s2 = 'Some text'\n",
    "s1==s2"
   ]
  },
  {
   "cell_type": "code",
   "execution_count": 93,
   "id": "d15d6d93-8406-435a-973a-e536ea1cf45c",
   "metadata": {},
   "outputs": [
    {
     "data": {
      "text/plain": [
       "9"
      ]
     },
     "execution_count": 93,
     "metadata": {},
     "output_type": "execute_result"
    }
   ],
   "source": [
    "# к строкам применимо большинство функций, которые затем будут применяться к словарям. Например, длина строки:\n",
    "len(s1)"
   ]
  },
  {
   "cell_type": "code",
   "execution_count": 94,
   "id": "01aaea1e-0378-4820-8a19-b32fc7f95276",
   "metadata": {},
   "outputs": [
    {
     "name": "stdout",
     "output_type": "stream",
     "text": [
      "Some text Some text\n",
      "Some textSome textSome text\n",
      "S\n",
      "ome text\n"
     ]
    }
   ],
   "source": [
    "# конкатенация (сложение)\n",
    "print(s1 + \" \" + s2)\n",
    "\n",
    "# умножение\n",
    "print(s1*3)\n",
    "\n",
    "# доступ по индексу. Индексирование всех структур в Python начинается с нуля!\n",
    "print(s1[0])\n",
    "\n",
    "#срезы:\n",
    "print(s1[1:9])"
   ]
  },
  {
   "cell_type": "code",
   "execution_count": 95,
   "id": "7141da6f-b800-4e85-835e-d03b72182160",
   "metadata": {},
   "outputs": [
    {
     "data": {
      "text/plain": [
       "True"
      ]
     },
     "execution_count": 95,
     "metadata": {},
     "output_type": "execute_result"
    }
   ],
   "source": [
    "'on' in 'tutorial on python functions'"
   ]
  },
  {
   "cell_type": "code",
   "execution_count": 98,
   "id": "c42f56ce-a336-4485-890f-f413ea2cd2f5",
   "metadata": {},
   "outputs": [
    {
     "data": {
      "text/plain": [
       "['tutorial', 'on', 'python', 'functions']"
      ]
     },
     "execution_count": 98,
     "metadata": {},
     "output_type": "execute_result"
    }
   ],
   "source": [
    "# строки в Python очень удобно \"разрезать\" про символу или набору символовфункцией split\n",
    "# например, разделим строку по пробелу\n",
    "# в результате вы получите список. О списках поговорим в другом ноутбуке\n",
    "\n",
    "a = \"tutorial on python functions\".split(\" \")\n",
    "a[0]\n",
    "a"
   ]
  },
  {
   "cell_type": "code",
   "execution_count": 99,
   "id": "2a8c2460-7e8d-41c0-93ed-9d79a0c1c77c",
   "metadata": {},
   "outputs": [
    {
     "data": {
      "text/plain": [
       "['Some text', 'Some more text', '']"
      ]
     },
     "execution_count": 99,
     "metadata": {},
     "output_type": "execute_result"
    }
   ],
   "source": [
    "# или по подстроке\n",
    "\"Some text and the end of the phrase. Some more text and the end of the phrase. \".split(\" and the end of the phrase. \")"
   ]
  },
  {
   "cell_type": "code",
   "execution_count": 100,
   "id": "4edfec18-9441-4cdf-9abd-dd50b1845c8a",
   "metadata": {},
   "outputs": [
    {
     "data": {
      "text/plain": [
       "'1; 2; 3; 4; 5'"
      ]
     },
     "execution_count": 100,
     "metadata": {},
     "output_type": "execute_result"
    }
   ],
   "source": [
    "# например, выведем последовательность 1,2,3,4,5 через точку с запятой с пробелом\n",
    "\"; \".join((\"1\",\"2\",\"3\",\"4\",\"5\"))"
   ]
  },
  {
   "cell_type": "markdown",
   "id": "b61d7197-d98a-4a65-aa78-cadb4d3e7849",
   "metadata": {},
   "source": [
    "##  None\n",
    "\n",
    "Иногда вам нужен тип, который будет обозначать дырку от бублика.\n",
    "\n",
    "Нарпимер, тип, который будет выдавать функция, в которой вы не укажете return"
   ]
  },
  {
   "cell_type": "code",
   "execution_count": 101,
   "id": "ed6bcfd5-ea05-428e-9b4f-4fb35b15bc0f",
   "metadata": {},
   "outputs": [
    {
     "data": {
      "text/plain": [
       "NoneType"
      ]
     },
     "execution_count": 101,
     "metadata": {},
     "output_type": "execute_result"
    }
   ],
   "source": [
    "a = None\n",
    "type(a)"
   ]
  },
  {
   "cell_type": "markdown",
   "id": "882221da-f619-4e69-880f-d10b733e9df0",
   "metadata": {},
   "source": [
    "## Boolean\n",
    "Логическое значение (правда True / неправда False)"
   ]
  },
  {
   "cell_type": "code",
   "execution_count": 103,
   "id": "495344d2-04d3-4456-80bc-5d8521d604f1",
   "metadata": {},
   "outputs": [
    {
     "data": {
      "text/plain": [
       "False"
      ]
     },
     "execution_count": 103,
     "metadata": {},
     "output_type": "execute_result"
    }
   ],
   "source": [
    "# r - это результат приравнивания чисел 4 и 5\n",
    "(4 == 5)\n"
   ]
  },
  {
   "cell_type": "code",
   "execution_count": 104,
   "id": "308a83d8-3dcf-41a4-a35b-fc9a8330e044",
   "metadata": {},
   "outputs": [
    {
     "data": {
      "text/plain": [
       "True"
      ]
     },
     "execution_count": 104,
     "metadata": {},
     "output_type": "execute_result"
    }
   ],
   "source": [
    "# Большинство других типов может быть преобазовано в bool с помощью функции bool:\n",
    "bool(1)"
   ]
  },
  {
   "cell_type": "code",
   "execution_count": 105,
   "id": "8bf78300-8ff4-4f74-bcdb-cb2e9049f6bc",
   "metadata": {},
   "outputs": [
    {
     "data": {
      "text/plain": [
       "False"
      ]
     },
     "execution_count": 105,
     "metadata": {},
     "output_type": "execute_result"
    }
   ],
   "source": [
    "bool(0)"
   ]
  },
  {
   "cell_type": "code",
   "execution_count": 106,
   "id": "b2c66890-33a9-4226-9436-64de5a446f5c",
   "metadata": {},
   "outputs": [
    {
     "data": {
      "text/plain": [
       "True"
      ]
     },
     "execution_count": 106,
     "metadata": {},
     "output_type": "execute_result"
    }
   ],
   "source": [
    "bool(10435)"
   ]
  },
  {
   "cell_type": "code",
   "execution_count": 107,
   "id": "294d43d4-c58e-4538-a26f-8251f934d098",
   "metadata": {},
   "outputs": [
    {
     "data": {
      "text/plain": [
       "True"
      ]
     },
     "execution_count": 107,
     "metadata": {},
     "output_type": "execute_result"
    }
   ],
   "source": [
    "bool(\"Some not empty string\")"
   ]
  },
  {
   "cell_type": "code",
   "execution_count": 110,
   "id": "5e5ccc29-5a62-44db-9942-4032c36896ce",
   "metadata": {},
   "outputs": [
    {
     "data": {
      "text/plain": [
       "False"
      ]
     },
     "execution_count": 110,
     "metadata": {},
     "output_type": "execute_result"
    }
   ],
   "source": [
    "bool(\"\")"
   ]
  },
  {
   "cell_type": "code",
   "execution_count": 111,
   "id": "62b66ef6-4ad2-42a6-aaf2-ec98662084b7",
   "metadata": {},
   "outputs": [
    {
     "data": {
      "text/plain": [
       "True"
      ]
     },
     "execution_count": 111,
     "metadata": {},
     "output_type": "execute_result"
    }
   ],
   "source": [
    "# то же самое с непустым списком:\n",
    "bool([1,2,3])"
   ]
  },
  {
   "cell_type": "code",
   "execution_count": 112,
   "id": "bb129e45-19fc-4657-91cb-b1e6fb91abb9",
   "metadata": {},
   "outputs": [
    {
     "data": {
      "text/plain": [
       "False"
      ]
     },
     "execution_count": 112,
     "metadata": {},
     "output_type": "execute_result"
    }
   ],
   "source": [
    "bool([])"
   ]
  },
  {
   "cell_type": "code",
   "execution_count": 113,
   "id": "60b33c25-52c7-4465-867a-b5a6f7ee1fc0",
   "metadata": {},
   "outputs": [
    {
     "data": {
      "text/plain": [
       "False"
      ]
     },
     "execution_count": 113,
     "metadata": {},
     "output_type": "execute_result"
    }
   ],
   "source": [
    "bool(None)"
   ]
  },
  {
   "cell_type": "markdown",
   "id": "9cc2e8e8-5c4a-4527-827d-a9137bc91844",
   "metadata": {},
   "source": [
    "Для удобства записи эти типы неявно (без указания функции bool()) преобразовываются к типу Boolean, попадая в конструкции, в которых ожидается именно Boolean\n",
    "\n",
    "например, если попадают в конструкцию if-else.\n",
    "\n",
    "Однако, согласно соглашению PEP-8, это плохой стиль написания кода, т.к. реализация того, какой объект будет неявно преобразован к True, а какой к False может меняться в зависимости от версии языка"
   ]
  },
  {
   "cell_type": "code",
   "execution_count": 117,
   "id": "e7a25f2d-3e21-4fc2-8f98-bddab5d9599a",
   "metadata": {},
   "outputs": [
    {
     "name": "stdout",
     "output_type": "stream",
     "text": [
      "efwc\n",
      "dsbv\n"
     ]
    }
   ],
   "source": [
    "a = \"That string was handled as Boolean:\"\n",
    "if len(a) > 0:\n",
    "    print('efwc')\n",
    "\n",
    "if a:\n",
    "    print('dsbv')\n",
    "\n",
    "# if \"\":\n",
    "#     print(\"That string was handled as Boolean = True\")\n",
    "# else:\n",
    "#     print(\"That string was not handled as False\")"
   ]
  },
  {
   "cell_type": "markdown",
   "id": "470f2914-7eaf-45f7-a766-6018adf296c2",
   "metadata": {},
   "source": [
    "# Структуры"
   ]
  },
  {
   "cell_type": "markdown",
   "id": "e141b32c-3986-4ba5-8b26-7db9d704f523",
   "metadata": {},
   "source": [
    "Структуры данных - форматы для организации и хранения данных. Этот «макет» позволяет структуре данных быть эффективной в некоторых операциях и неэффективной в других.\n",
    "\n",
    "Простейшие структуры данных Python\n",
    "\n",
    "| Структура     | Пример    | Описание                  |\n",
    "|----------|------------|------------------------------|\n",
    "| `list`      | `[1, 2, 3]`      | списки - упорядоченные коллекции                   |\n",
    "| `tuple`    | `(1, 2, 3)`    | кортежи - неизменяемые списки    |\n",
    "| `dict`  | `{'a':1, 'b':2, 'c':3}` | неупорядоченные коллекции вида \\\"ключ\\\" - значение            |\n",
    "| `set`     | `{1, 2, 3}`   | неупорядоченные коллекции - множества |\n",
    "\n",
    "В Python по умолчанию не реализованы массивы, что решается сторонней, но уже практически базовой библиотекой numpy.\n",
    "\n",
    "Также существуют другие структуры данных, например, в модуле COllections."
   ]
  },
  {
   "cell_type": "markdown",
   "id": "f7b6f769-fb88-42a8-b770-08525a3d1dd9",
   "metadata": {},
   "source": [
    "## List\n",
    "Структура вида \"элемент-голова + указатель на следующий элемент\". Полседний элемент просто указывает на None, за счёт чего к нему удобно добавить следующий элемент.\n",
    "\n",
    "img\n",
    "\n",
    "cписки удобны, когда вам нужен \"паровозик\" данных, в котором вы будете проходиться по каждому вагону и, возможно, цеплять или убирать новые."
   ]
  },
  {
   "cell_type": "code",
   "execution_count": 122,
   "id": "ccf6300e-3a49-4976-b1e7-380228a2c4cd",
   "metadata": {},
   "outputs": [
    {
     "data": {
      "text/plain": [
       "[3, 5, 7]"
      ]
     },
     "execution_count": 122,
     "metadata": {},
     "output_type": "execute_result"
    }
   ],
   "source": [
    "l = [2,3,5,7,11]\n",
    "l[1:4]"
   ]
  },
  {
   "cell_type": "code",
   "execution_count": 120,
   "id": "56be30f5-e7db-4f61-8067-ef08a7e5587a",
   "metadata": {},
   "outputs": [],
   "source": [
    "# действительно, из списка легко вытащить \"голову\" и \"тело\"\n",
    "# head,\n",
    "# *body = l\n",
    "# почему перед body стоит звёздочка, поговорим позже"
   ]
  },
  {
   "cell_type": "code",
   "execution_count": null,
   "id": "41e9eca0-2cbf-4532-adb8-a2a3986714b1",
   "metadata": {},
   "outputs": [],
   "source": [
    "# можно, кстати, наоборот, вытащить тело с голоовой и последний элемент (ноги) списка\n",
    "*head, body = l"
   ]
  },
  {
   "cell_type": "markdown",
   "id": "baa39e09-32c1-4f4e-ad49-0e506384c429",
   "metadata": {},
   "source": [
    "Массив - изменяемая структура в Python. Новый элемент списка добавляется методом append.\n",
    "\n",
    "Тут проявляется динамическая типизация Python: в структуре данных могут содержаться данные разных типов."
   ]
  },
  {
   "cell_type": "code",
   "execution_count": 123,
   "id": "270471b8-c00e-4d59-9623-2e20f7f1b7fd",
   "metadata": {},
   "outputs": [
    {
     "data": {
      "text/plain": [
       "[2, 3, 5, 7, 11, 'one more']"
      ]
     },
     "execution_count": 123,
     "metadata": {},
     "output_type": "execute_result"
    }
   ],
   "source": [
    "# например, и числа, и строки\n",
    "l.append(\"one more\")\n",
    "l"
   ]
  },
  {
   "cell_type": "code",
   "execution_count": 124,
   "id": "be6150f2-8181-4fb0-929e-ac33c651c301",
   "metadata": {},
   "outputs": [
    {
     "data": {
      "text/plain": [
       "(2, 11, 'one more')"
      ]
     },
     "execution_count": 124,
     "metadata": {},
     "output_type": "execute_result"
    }
   ],
   "source": [
    "l[0], l[4], l[5]"
   ]
  },
  {
   "cell_type": "code",
   "execution_count": 34,
   "id": "496aa509-3ad0-4ef2-bad3-f24f2cdd8c64",
   "metadata": {},
   "outputs": [],
   "source": [
    "# срезы списка по индексу. Сам список l при этом не меняется.\n",
    "l[1:5]"
   ]
  },
  {
   "cell_type": "code",
   "execution_count": 127,
   "id": "c1f876c1-268e-4c87-a875-9b1ff09ae280",
   "metadata": {},
   "outputs": [
    {
     "name": "stdout",
     "output_type": "stream",
     "text": [
      "11\n"
     ]
    },
    {
     "data": {
      "text/plain": [
       "11"
      ]
     },
     "execution_count": 127,
     "metadata": {},
     "output_type": "execute_result"
    }
   ],
   "source": [
    "# метод pop() \"отрывает\" у списка последний элемент. Например, было:\n",
    "print(l)\n",
    "\n",
    "# l = l.pop()\n",
    "l"
   ]
  },
  {
   "cell_type": "code",
   "execution_count": 36,
   "id": "2b770174-a4ea-42f5-a2c8-224a2cfbf814",
   "metadata": {},
   "outputs": [],
   "source": [
    "# либо тот элемент, который вы укажете. Например, нулевой (голову списка)\n",
    "l.pop(0)\n",
    "l"
   ]
  },
  {
   "cell_type": "code",
   "execution_count": 128,
   "id": "2334514a-3924-4312-8453-fc479a8708c5",
   "metadata": {},
   "outputs": [
    {
     "data": {
      "text/plain": [
       "[1, 2, 3, 4, 5, 6]"
      ]
     },
     "execution_count": 128,
     "metadata": {},
     "output_type": "execute_result"
    }
   ],
   "source": [
    "# если требуется расширить список на несколько элементов, используйте функцию extend или оператор +=\n",
    "l = [1, 2]\n",
    "l.extend([3, 4])\n",
    "l += [5,6]\n",
    "l"
   ]
  },
  {
   "cell_type": "code",
   "execution_count": 132,
   "id": "150755bb-08fe-451f-a3fa-52d2d1cfa00e",
   "metadata": {},
   "outputs": [],
   "source": [
    "# не забывайте о том, что в отличие от написанного выше, \".append\" не расширит список, а добавит список ещё одни элементов\n",
    "l.append([7, 8])\n",
    "l\n",
    "a=1\n",
    "# display(l)"
   ]
  },
  {
   "cell_type": "markdown",
   "id": "67766b82-f658-47bb-b932-3268ea950643",
   "metadata": {},
   "source": [
    "## Tuple\n",
    "Кортежи - те же списки, только неизменяемые"
   ]
  },
  {
   "cell_type": "code",
   "execution_count": 133,
   "id": "f1e35acf-a2cf-4488-8bc3-9211fef79545",
   "metadata": {},
   "outputs": [
    {
     "data": {
      "text/plain": [
       "(2, 3, 5, 7, 11)"
      ]
     },
     "execution_count": 133,
     "metadata": {},
     "output_type": "execute_result"
    }
   ],
   "source": [
    "t = (2,3,5,7,11)\n",
    "t"
   ]
  },
  {
   "cell_type": "code",
   "execution_count": 134,
   "id": "20f97125-b935-4c6d-b75f-775722dba501",
   "metadata": {},
   "outputs": [
    {
     "data": {
      "text/plain": [
       "(2, 3, 5, 7, 11)"
      ]
     },
     "execution_count": 134,
     "metadata": {},
     "output_type": "execute_result"
    }
   ],
   "source": [
    "# можно записывать без скобок\n",
    "t = 2,3,5,7,11\n",
    "t"
   ]
  },
  {
   "cell_type": "code",
   "execution_count": 135,
   "id": "2dca4fe4-a002-4089-b4ab-431a87364c21",
   "metadata": {},
   "outputs": [
    {
     "ename": "AttributeError",
     "evalue": "'tuple' object has no attribute 'append'",
     "output_type": "error",
     "traceback": [
      "\u001b[1;31m---------------------------------------------------------------------------\u001b[0m",
      "\u001b[1;31mAttributeError\u001b[0m                            Traceback (most recent call last)",
      "\u001b[1;32m<ipython-input-135-6585825105a1>\u001b[0m in \u001b[0;36m<module>\u001b[1;34m\u001b[0m\n\u001b[0;32m      1\u001b[0m \u001b[1;31m# кортеж неизменяем, к нему нельзя добавить новый элемент\u001b[0m\u001b[1;33m\u001b[0m\u001b[1;33m\u001b[0m\u001b[1;33m\u001b[0m\u001b[0m\n\u001b[1;32m----> 2\u001b[1;33m \u001b[0mt\u001b[0m\u001b[1;33m.\u001b[0m\u001b[0mappend\u001b[0m\u001b[1;33m(\u001b[0m\u001b[1;34m\"new element\"\u001b[0m\u001b[1;33m)\u001b[0m\u001b[1;33m\u001b[0m\u001b[1;33m\u001b[0m\u001b[0m\n\u001b[0m",
      "\u001b[1;31mAttributeError\u001b[0m: 'tuple' object has no attribute 'append'"
     ]
    }
   ],
   "source": [
    "# кортеж неизменяем, к нему нельзя добавить новый элемент\n",
    "t.append(\"new element\")"
   ]
  },
  {
   "cell_type": "code",
   "execution_count": 138,
   "id": "d035eac2-9a49-4499-a573-74744b7e3774",
   "metadata": {},
   "outputs": [
    {
     "data": {
      "text/plain": [
       "(2, 3, 5, 7, 11, [1, 2])"
      ]
     },
     "execution_count": 138,
     "metadata": {},
     "output_type": "execute_result"
    }
   ],
   "source": [
    "# однако, если метод создаст новый объект, а не поменяет старый, то почему бы и нет\n",
    "a = ([1,2],)\n",
    "t + a"
   ]
  },
  {
   "cell_type": "code",
   "execution_count": 139,
   "id": "49cd9483-caf4-4933-b063-b19d39e450d0",
   "metadata": {},
   "outputs": [
    {
     "data": {
      "text/plain": [
       "(2, 3, 5, 7)"
      ]
     },
     "execution_count": 139,
     "metadata": {},
     "output_type": "execute_result"
    }
   ],
   "source": [
    "# кортежи поддерживают те же операции доступа к элементам, что и списки\n",
    "t[0:4]"
   ]
  },
  {
   "cell_type": "markdown",
   "id": "cf31acd7-1148-4b52-8733-ca132a407bcb",
   "metadata": {},
   "source": [
    "Не забывайте, что создание нового объекта требует выделения памяти. Процесс небыстрый, поэтому если вы захотите много раз увеличивать длину кортежа, создавая новый кортеж, это будет происходить медленно.\n",
    "\n",
    "На практике проверим это.\n",
    "\n",
    "Зачем нам нужен такой объект?\n",
    "Кортежи занимают меньше памяти и работают быстрее списков, если нам не нужно менять сам кортеж.\n",
    "\n",
    "Чаще всего кортежи используются, когда нам нужно передать несколько аргументов функции.\n",
    "\n",
    "Либо в функциях, возвращающих больше одного аргумента\n",
    "\n",
    "О функциях потом ("
   ]
  },
  {
   "cell_type": "markdown",
   "id": "a4dbccc2-1517-42ba-ad73-d06bcf44f643",
   "metadata": {},
   "source": [
    "## Dictionary\n",
    "Удобная изменяемая структура вида ключ-значение\n",
    "\n",
    "img\n",
    "\n",
    "\n",
    "Для ускорения работы в Python словари на самом деле реализованы как хеш-таблицы, что позволяет им работать быстрее, но занимая больше памяти."
   ]
  },
  {
   "cell_type": "code",
   "execution_count": 140,
   "id": "05f2d5d1-4066-48ea-b7f6-6ec28e78c48a",
   "metadata": {},
   "outputs": [
    {
     "data": {
      "text/plain": [
       "{'key1': 'value1', 'key2': 'value2', 'key3': 'value3'}"
      ]
     },
     "execution_count": 140,
     "metadata": {},
     "output_type": "execute_result"
    }
   ],
   "source": [
    "my_dict = {'key1':'value1', 'key2':'value2', 'key3':'value3'}\n",
    "my_dict"
   ]
  },
  {
   "cell_type": "code",
   "execution_count": 141,
   "id": "425cb38b-9c2e-4980-8d18-84043b5d1989",
   "metadata": {},
   "outputs": [
    {
     "data": {
      "text/plain": [
       "'value2'"
      ]
     },
     "execution_count": 141,
     "metadata": {},
     "output_type": "execute_result"
    }
   ],
   "source": [
    "# доступ к элементам осуществляется по ключам\n",
    "my_dict['key2']"
   ]
  },
  {
   "cell_type": "code",
   "execution_count": 144,
   "id": "171722d6-ab35-4d4d-98d8-df8933e444b2",
   "metadata": {},
   "outputs": [
    {
     "data": {
      "text/plain": [
       "1"
      ]
     },
     "execution_count": 144,
     "metadata": {},
     "output_type": "execute_result"
    }
   ],
   "source": [
    "# В качестве ключа может использоваться любой \"хешируемый\" (т.е. чаще всего неизменяемый) тип или структура данных. Даже кортеж!\n",
    "my_dict = {(1,2,3): 1}\n",
    "# my_dict\n",
    "my_dict[(1,2,3)]"
   ]
  },
  {
   "cell_type": "code",
   "execution_count": 146,
   "id": "78038f91-1001-43c5-83a6-ce7ab1c714d4",
   "metadata": {},
   "outputs": [
    {
     "ename": "TypeError",
     "evalue": "unhashable type: 'list'",
     "output_type": "error",
     "traceback": [
      "\u001b[1;31m---------------------------------------------------------------------------\u001b[0m",
      "\u001b[1;31mTypeError\u001b[0m                                 Traceback (most recent call last)",
      "\u001b[1;32m<ipython-input-146-8e0852a544b3>\u001b[0m in \u001b[0;36m<module>\u001b[1;34m\u001b[0m\n\u001b[0;32m      1\u001b[0m \u001b[1;31m# список уже не может быть ключом, т.к. если мы изменим список, изменится и хеш, по которому Python находит значение в словаре\u001b[0m\u001b[1;33m\u001b[0m\u001b[1;33m\u001b[0m\u001b[1;33m\u001b[0m\u001b[0m\n\u001b[0;32m      2\u001b[0m \u001b[0ma\u001b[0m\u001b[1;33m=\u001b[0m \u001b[1;33m[\u001b[0m\u001b[1;36m1\u001b[0m\u001b[1;33m,\u001b[0m\u001b[1;36m2\u001b[0m\u001b[1;33m,\u001b[0m\u001b[1;36m3\u001b[0m\u001b[1;33m]\u001b[0m\u001b[1;33m\u001b[0m\u001b[1;33m\u001b[0m\u001b[0m\n\u001b[1;32m----> 3\u001b[1;33m \u001b[0mmy_dict\u001b[0m \u001b[1;33m=\u001b[0m \u001b[1;33m{\u001b[0m\u001b[0ma\u001b[0m\u001b[1;33m:\u001b[0m \u001b[1;36m1\u001b[0m\u001b[1;33m}\u001b[0m\u001b[1;33m\u001b[0m\u001b[1;33m\u001b[0m\u001b[0m\n\u001b[0m\u001b[0;32m      4\u001b[0m \u001b[0ma\u001b[0m\u001b[1;33m.\u001b[0m\u001b[0mappend\u001b[0m\u001b[1;33m(\u001b[0m\u001b[1;36m1\u001b[0m\u001b[1;33m)\u001b[0m\u001b[1;33m\u001b[0m\u001b[1;33m\u001b[0m\u001b[0m\n\u001b[0;32m      5\u001b[0m \u001b[0mmy_dict\u001b[0m\u001b[1;33m[\u001b[0m\u001b[0ma\u001b[0m\u001b[1;33m]\u001b[0m\u001b[1;33m\u001b[0m\u001b[1;33m\u001b[0m\u001b[0m\n",
      "\u001b[1;31mTypeError\u001b[0m: unhashable type: 'list'"
     ]
    }
   ],
   "source": [
    "# список уже не может быть ключом, т.к. если мы изменим список, изменится и хеш, по которому Python находит значение в словаре\n",
    "a= [1,2,3]\n",
    "my_dict = {a: 1}\n",
    "a.append(1)\n",
    "my_dict[a]"
   ]
  },
  {
   "cell_type": "code",
   "execution_count": 147,
   "id": "84610812-5aa2-4a89-bbc8-c51a0173edfe",
   "metadata": {},
   "outputs": [
    {
     "data": {
      "text/plain": [
       "[1, 2]"
      ]
     },
     "execution_count": 147,
     "metadata": {},
     "output_type": "execute_result"
    }
   ],
   "source": [
    "# но может быть значеним в словаре\n",
    "# к которому, кстати, можно сразу применить срез или доступ по индексу\n",
    "\n",
    "my_dict = {'key1':'value1', 'key2':'value2', 'key3':[1, 2, 3]}\n",
    "my_dict['key3'][0:2]"
   ]
  },
  {
   "cell_type": "markdown",
   "id": "3b5433f0-d93a-4cad-b717-ccbccf6b3cb3",
   "metadata": {},
   "source": [
    "Словари - неупорядоченные структуры. В будущем, попытавшись пройти по словарю циклом, вы можете сделать это не в том же порядке, в котором вы определяли словарь."
   ]
  },
  {
   "cell_type": "code",
   "execution_count": 152,
   "id": "cb1165a1-0f78-4952-af0f-86bcb232abc5",
   "metadata": {},
   "outputs": [],
   "source": [
    "# В словарь можно добавить новую пару ключ-значение\n",
    "my_dict['key10050'] = \"new value\"\n",
    "my_dict['key'] = 'value1'"
   ]
  },
  {
   "cell_type": "code",
   "execution_count": 149,
   "id": "b52dbb45-799e-46bd-ba58-d91249d23051",
   "metadata": {},
   "outputs": [
    {
     "data": {
      "text/plain": [
       "dict_keys(['key1', 'key2', 'key3', 'key10050'])"
      ]
     },
     "execution_count": 149,
     "metadata": {},
     "output_type": "execute_result"
    }
   ],
   "source": [
    "# можно получить список всех ключей\n",
    "my_dict.keys()"
   ]
  },
  {
   "cell_type": "code",
   "execution_count": 161,
   "id": "4938e5bd-4b47-440b-b720-b9d5d41f241f",
   "metadata": {},
   "outputs": [
    {
     "data": {
      "text/plain": [
       "dict_values(['value1', 'value2', [1, 2, 3], 'new value', 'value1'])"
      ]
     },
     "execution_count": 161,
     "metadata": {},
     "output_type": "execute_result"
    }
   ],
   "source": [
    "# или всех значений\n",
    "my_dict.values()"
   ]
  },
  {
   "cell_type": "markdown",
   "id": "abbbeb0a-2271-48c1-a3be-8ed6b9672382",
   "metadata": {},
   "source": [
    "## Set\n",
    "Множества - просто алгебраические множества. Неупорядоченные изменяемые структуры, к которым удобно применять операции на множествах - объединение, пересечение, сложение, вычитание, симметричное вычитание"
   ]
  },
  {
   "cell_type": "code",
   "execution_count": 162,
   "id": "de54697e-c25e-45d4-8989-6b7f7109d279",
   "metadata": {},
   "outputs": [
    {
     "data": {
      "text/plain": [
       "{1, 2, 3}"
      ]
     },
     "execution_count": 162,
     "metadata": {},
     "output_type": "execute_result"
    }
   ],
   "source": [
    "myset = [1,2,3, 1, 3]\n",
    "set(myset)"
   ]
  },
  {
   "cell_type": "code",
   "execution_count": 163,
   "id": "7ab1d03c-2659-45f2-82e8-4558f8501085",
   "metadata": {},
   "outputs": [
    {
     "data": {
      "text/plain": [
       "{1, 2, 3}"
      ]
     },
     "execution_count": 163,
     "metadata": {},
     "output_type": "execute_result"
    }
   ],
   "source": [
    "# множества удобно создавать, явно преобразовывая из других структур с помощью функции set()\n",
    "myset = set([1,2,3])\n",
    "myset"
   ]
  },
  {
   "cell_type": "code",
   "execution_count": 164,
   "id": "a86e44b6-b7f0-4e78-83e5-f18eefd9c890",
   "metadata": {},
   "outputs": [
    {
     "data": {
      "text/plain": [
       "{1, 2, 3, 4}"
      ]
     },
     "execution_count": 164,
     "metadata": {},
     "output_type": "execute_result"
    }
   ],
   "source": [
    "# элементы добавляются методом add()\n",
    "myset.add(4)\n",
    "myset"
   ]
  },
  {
   "cell_type": "code",
   "execution_count": 165,
   "id": "531b3dc9-6f2f-4905-a2ed-ef40491aeca1",
   "metadata": {},
   "outputs": [
    {
     "data": {
      "text/plain": [
       "{1, 2, 3, 4}"
      ]
     },
     "execution_count": 165,
     "metadata": {},
     "output_type": "execute_result"
    }
   ],
   "source": [
    "# что будет, если добавить к множеству элемент, который в нём уже есть?\n",
    "myset.add(4)\n",
    "# спойлер: ничего не будет\n",
    "myset"
   ]
  },
  {
   "cell_type": "code",
   "execution_count": 166,
   "id": "9a17641d-8988-402d-89d7-e1e2356696c9",
   "metadata": {},
   "outputs": [],
   "source": [
    "primes = {2, 3, 5, 7}\n",
    "odds = {1, 3, 5, 7, 9}"
   ]
  },
  {
   "cell_type": "code",
   "execution_count": 167,
   "id": "30f528ca-d2bf-4953-b29d-5efdb464d65b",
   "metadata": {},
   "outputs": [
    {
     "data": {
      "text/plain": [
       "{1, 2, 3, 5, 7, 9}"
      ]
     },
     "execution_count": 167,
     "metadata": {},
     "output_type": "execute_result"
    }
   ],
   "source": [
    "# основные операции над множествами можно осуществлять как с помощью операторов |, &, +, -, ^, так и с помощью методов\n",
    "primes | odds      # with an operator\n",
    "primes.union(odds)"
   ]
  },
  {
   "cell_type": "code",
   "execution_count": 168,
   "id": "1d2b810e-f45a-4567-89a0-3de7f42fec74",
   "metadata": {},
   "outputs": [
    {
     "data": {
      "text/plain": [
       "{3, 5, 7}"
      ]
     },
     "execution_count": 168,
     "metadata": {},
     "output_type": "execute_result"
    }
   ],
   "source": [
    "primes & odds             # with an operator\n",
    "primes.intersection(odds)"
   ]
  },
  {
   "cell_type": "code",
   "execution_count": 169,
   "id": "de99e704-66d9-43a0-a8b8-ae374c9ab18e",
   "metadata": {},
   "outputs": [
    {
     "data": {
      "text/plain": [
       "{2}"
      ]
     },
     "execution_count": 169,
     "metadata": {},
     "output_type": "execute_result"
    }
   ],
   "source": [
    "primes - odds           # with an operator\n",
    "primes.difference(odds)"
   ]
  },
  {
   "cell_type": "code",
   "execution_count": 170,
   "id": "e53f7f31-211d-42e3-b297-ff3d1f9c801b",
   "metadata": {},
   "outputs": [
    {
     "data": {
      "text/plain": [
       "{1, 2, 9}"
      ]
     },
     "execution_count": 170,
     "metadata": {},
     "output_type": "execute_result"
    }
   ],
   "source": [
    "primes ^ odds                     # with an operator\n",
    "primes.symmetric_difference(odds)"
   ]
  },
  {
   "cell_type": "markdown",
   "id": "cf03d781-3464-45f2-bb6a-d15cc2bd0eb4",
   "metadata": {},
   "source": [
    "# Операторы"
   ]
  },
  {
   "cell_type": "markdown",
   "id": "7d58e9af-7ac4-4238-badc-2190aaa2bf9a",
   "metadata": {},
   "source": [
    "##  Арифметические операторы\n",
    "| Оператор, пример    | Описание                  |\n",
    "|------------|------------------------------|\n",
    "| x + y     | целые числа                  |\n",
    "| x - y    | числа с плавающей запятой    |\n",
    "| x / y | деление            |\n",
    "| x // y   | деление с округлением вниз |\n",
    "| x % y  | остаток    |\n",
    "|  x ** y  | возведение в степень   |\n",
    "\n",
    "Большинство из них применимо ко всем основным типам и некоторым структурам данных Python"
   ]
  },
  {
   "cell_type": "code",
   "execution_count": 171,
   "id": "d76483b8-bbbb-44b8-99c0-5fc982a84a36",
   "metadata": {},
   "outputs": [
    {
     "name": "stdout",
     "output_type": "stream",
     "text": [
      "13\n",
      "5\n",
      "36\n",
      "2.25\n",
      "2\n",
      "1\n",
      "6561\n"
     ]
    }
   ],
   "source": [
    "#Примеры работы арифметических операторов\n",
    "a = 9\n",
    "b = 4\n",
    "  \n",
    "add = a + b  \n",
    "  \n",
    "sub = a - b  \n",
    "  \n",
    "mul = a * b  \n",
    "  \n",
    "div1 = a / b  \n",
    "  \n",
    "div2 = a // b  \n",
    "  \n",
    "mod = a % b  \n",
    "  \n",
    "# Power \n",
    "p = a ** b \n",
    "  \n",
    "# print results  \n",
    "print(add)  \n",
    "print(sub)  \n",
    "print(mul)  \n",
    "print(div1)  \n",
    "print(div2)  \n",
    "print(mod) \n",
    "print(p)"
   ]
  },
  {
   "cell_type": "markdown",
   "id": "d8b1b9e8-4285-494c-9fb4-c8a6a4325e88",
   "metadata": {},
   "source": [
    "## Операторы сравнения\n",
    "Применимы ко многим типам. В качестве результата выдают логический тип Bool.\n",
    "\n",
    "Заметьте, что оператор сравнения \"равно\" определён как \"==\", тогда как оператор присваивания \"=\""
   ]
  },
  {
   "cell_type": "code",
   "execution_count": 172,
   "id": "03d414ca-ed4f-4f3e-9eea-0acb4e906215",
   "metadata": {},
   "outputs": [
    {
     "data": {
      "text/plain": [
       "True"
      ]
     },
     "execution_count": 172,
     "metadata": {},
     "output_type": "execute_result"
    }
   ],
   "source": [
    "2 == 2.0"
   ]
  },
  {
   "cell_type": "code",
   "execution_count": 173,
   "id": "244b655b-ad78-450d-90a3-c18bfa989052",
   "metadata": {},
   "outputs": [
    {
     "data": {
      "text/plain": [
       "False"
      ]
     },
     "execution_count": 173,
     "metadata": {},
     "output_type": "execute_result"
    }
   ],
   "source": [
    "'1' == 1"
   ]
  },
  {
   "cell_type": "code",
   "execution_count": 174,
   "id": "58ecdd5a-876b-4400-875d-d6bb844fd4b1",
   "metadata": {},
   "outputs": [
    {
     "data": {
      "text/plain": [
       "False"
      ]
     },
     "execution_count": 174,
     "metadata": {},
     "output_type": "execute_result"
    }
   ],
   "source": [
    "'hello' == 'bye'"
   ]
  },
  {
   "cell_type": "markdown",
   "id": "220f7dca-6397-4533-8aed-ed82f7ba77e0",
   "metadata": {},
   "source": [
    "В некоторых случаях - например для типов Int и Float срабатывает неявное приведение типов\n",
    "\n",
    "Интерпретатор догадывается, что ниже вы имели в виду \"равны по модулю\". Это удобно, но может привести к ошибкам, т.к. \"==\" проверяет равенство значений, а не объектов"
   ]
  },
  {
   "cell_type": "code",
   "execution_count": 59,
   "id": "0aa672c0-b24d-43e3-8c79-02f24ccf722e",
   "metadata": {},
   "outputs": [],
   "source": [
    "2.0 == 2"
   ]
  },
  {
   "cell_type": "code",
   "execution_count": 60,
   "id": "625cb13a-a9f9-4a9e-b5c5-bc862259ad14",
   "metadata": {},
   "outputs": [],
   "source": [
    "# для строк это уже не сработает\n",
    "'2' == 2"
   ]
  },
  {
   "cell_type": "code",
   "execution_count": 175,
   "id": "165aa91e-de51-4d4c-8187-cd282972e974",
   "metadata": {},
   "outputs": [
    {
     "name": "stderr",
     "output_type": "stream",
     "text": [
      "<>:3: SyntaxWarning: \"is\" with a literal. Did you mean \"==\"?\n",
      "<>:3: SyntaxWarning: \"is\" with a literal. Did you mean \"==\"?\n",
      "<ipython-input-175-ab4ea5e2eb2a>:3: SyntaxWarning: \"is\" with a literal. Did you mean \"==\"?\n",
      "  2.0 is 2\n"
     ]
    },
    {
     "data": {
      "text/plain": [
       "False"
      ]
     },
     "execution_count": 175,
     "metadata": {},
     "output_type": "execute_result"
    }
   ],
   "source": [
    "# если вам нужно сравнить, являются ли 2.0 и 2 одним и тем же объектом, используйте оператор \"is\"\n",
    "# кстати, даже тут интерпретатор предупредит вас, не хотели ли вы сравнить именно значения\n",
    "2.0 is 2"
   ]
  },
  {
   "cell_type": "code",
   "execution_count": 176,
   "id": "58c47761-ed43-457c-94cf-ecb1eae5f98f",
   "metadata": {},
   "outputs": [
    {
     "data": {
      "text/plain": [
       "False"
      ]
     },
     "execution_count": 176,
     "metadata": {},
     "output_type": "execute_result"
    }
   ],
   "source": [
    "# оператор \"не равно\"\n",
    "2 != 2"
   ]
  },
  {
   "cell_type": "code",
   "execution_count": 177,
   "id": "7fd84bb3-52d9-42f6-8b36-cf0ce1695837",
   "metadata": {},
   "outputs": [
    {
     "data": {
      "text/plain": [
       "False"
      ]
     },
     "execution_count": 177,
     "metadata": {},
     "output_type": "execute_result"
    }
   ],
   "source": [
    "1 > 2"
   ]
  },
  {
   "cell_type": "code",
   "execution_count": 178,
   "id": "8fd2ce7f-39b5-45b7-b524-8b8593ac476d",
   "metadata": {},
   "outputs": [
    {
     "data": {
      "text/plain": [
       "True"
      ]
     },
     "execution_count": 178,
     "metadata": {},
     "output_type": "execute_result"
    }
   ],
   "source": [
    "25 >=3"
   ]
  },
  {
   "cell_type": "code",
   "execution_count": 179,
   "id": "6f98ec63-84e8-4c35-94dc-f93967446080",
   "metadata": {},
   "outputs": [
    {
     "data": {
      "text/plain": [
       "True"
      ]
     },
     "execution_count": 179,
     "metadata": {},
     "output_type": "execute_result"
    }
   ],
   "source": [
    "# операторы сравнения можно объединять в цепи\n",
    "1 < 2 < 3"
   ]
  },
  {
   "cell_type": "code",
   "execution_count": 180,
   "id": "9f6c79a7-502e-406a-bde8-6dda9839ec6f",
   "metadata": {},
   "outputs": [
    {
     "data": {
      "text/plain": [
       "False"
      ]
     },
     "execution_count": 180,
     "metadata": {},
     "output_type": "execute_result"
    }
   ],
   "source": [
    "# в том числе с помощью оператора \"and\"\n",
    "1 < 2 and 2 > 3"
   ]
  },
  {
   "cell_type": "code",
   "execution_count": 181,
   "id": "0d925595-03d3-45dc-ab1d-c0e4f0136877",
   "metadata": {},
   "outputs": [
    {
     "data": {
      "text/plain": [
       "True"
      ]
     },
     "execution_count": 181,
     "metadata": {},
     "output_type": "execute_result"
    }
   ],
   "source": [
    "# или \"or\"\n",
    "100 == 1 or 2 == 2"
   ]
  },
  {
   "cell_type": "code",
   "execution_count": 182,
   "id": "fbd96591-08ec-41e9-9253-c1cd18341c5d",
   "metadata": {},
   "outputs": [
    {
     "data": {
      "text/plain": [
       "False"
      ]
     },
     "execution_count": 182,
     "metadata": {},
     "output_type": "execute_result"
    }
   ],
   "source": [
    "# или использовать логическое отрицание\n",
    "not(1==1)"
   ]
  },
  {
   "cell_type": "markdown",
   "id": "53cb7ead-81ae-474e-9dbe-f70c184fdd11",
   "metadata": {},
   "source": [
    "## Операторы ветвления (сравнения, условные операторы)\n",
    "If, elif, else\n",
    "\n",
    "Обязательным является наличие конструкции\n",
    "\n",
    "> if (Bool):\n",
    "\n",
    ">    your beautiful command"
   ]
  },
  {
   "cell_type": "code",
   "execution_count": 183,
   "id": "6e5c9eda-8d3a-46ac-a5f6-2f78a3dcda4e",
   "metadata": {},
   "outputs": [
    {
     "name": "stdout",
     "output_type": "stream",
     "text": [
      "That was definitely True and it works!\n"
     ]
    }
   ],
   "source": [
    "if True:\n",
    "    print(\"That was definitely True and it works!\")"
   ]
  },
  {
   "cell_type": "code",
   "execution_count": 208,
   "id": "c6ee884a-260a-4502-b9bd-8ec03a80d70b",
   "metadata": {},
   "outputs": [
    {
     "name": "stdout",
     "output_type": "stream",
     "text": [
      "2\n",
      "2\n"
     ]
    }
   ],
   "source": [
    "# можно добавлять и блок else\n",
    "hungry = False\n",
    "\n",
    "a = [2,34,14]\n",
    "if len(a) != 0 :\n",
    "    print(a[0])\n",
    "if a:\n",
    "    print(a[0])\n",
    "else:\n",
    "    hv\n",
    "    \n",
    "# if hungry:\n",
    "#     print('Feed me')\n",
    "# # else:\n",
    "#     print('im not hungry')"
   ]
  },
  {
   "cell_type": "code",
   "execution_count": 188,
   "id": "e14cfe29-b619-467f-adeb-6adaa96303ad",
   "metadata": {},
   "outputs": [
    {
     "name": "stdout",
     "output_type": "stream",
     "text": [
      "Hello, world\n",
      "1\n"
     ]
    }
   ],
   "source": [
    "# и сколь угодно много блоков elif, если вы зануда, и вам требуется много уточнений\n",
    "\n",
    "name = 'world'\n",
    "\n",
    "if name == 'Frankie':\n",
    "    print('Hello, Frankie')\n",
    "elif name == 'Sammy':\n",
    "    print('Hello, Sammy')\n",
    "elif name == 'world':\n",
    "    print('Hello, world')\n",
    "else:\n",
    "    print('What is your name?')\n",
    "print(1)"
   ]
  },
  {
   "cell_type": "code",
   "execution_count": 189,
   "id": "e3e2d54b-05c7-4805-a0ad-b1379f5f00b2",
   "metadata": {},
   "outputs": [
    {
     "name": "stdout",
     "output_type": "stream",
     "text": [
      "Hello, Frankie or Jose\n"
     ]
    }
   ],
   "source": [
    "# не забывайте, что в if можно подставлять более крупные логические конструкции, состоящие из нескольких операторов\n",
    "name = 'Jose'\n",
    "\n",
    "if name == 'Frankie' or 'Jose':\n",
    "    print('Hello, Frankie or Jose')\n",
    "else:\n",
    "    print('What is your name?')"
   ]
  },
  {
   "cell_type": "markdown",
   "id": "88bfffc1-70dc-4b75-a2ff-c53bd00f5e3e",
   "metadata": {},
   "source": [
    "# немного про PRINT()"
   ]
  },
  {
   "cell_type": "markdown",
   "id": "b127b504-7a43-4d98-b632-b4f5fe0948a9",
   "metadata": {},
   "source": [
    "Многие из вас могут подумать, что в простой функции печати Python нет ничего неоткрытого, поскольку все вы начинали изучать Python (и другие языки программиования) с вечнозеленого примера печати \"Hello, World!\""
   ]
  },
  {
   "cell_type": "code",
   "execution_count": 190,
   "id": "6645debf-6cbf-4a47-bce1-157c46fa232a",
   "metadata": {},
   "outputs": [
    {
     "name": "stdout",
     "output_type": "stream",
     "text": [
      "tutorial on python print function [1]\n"
     ]
    }
   ],
   "source": [
    "print('tutorial', 'on', 'python', 'print', 'function', [1])"
   ]
  },
  {
   "cell_type": "code",
   "execution_count": 193,
   "id": "49fcbc21-8b1c-4588-af96-25fb3e6c6d59",
   "metadata": {},
   "outputs": [
    {
     "name": "stdout",
     "output_type": "stream",
     "text": [
      "tutorial  hv on  hv python  hv print  hv function\n"
     ]
    }
   ],
   "source": [
    "print('tutorial','on','python','print','function',sep='  hv ') "
   ]
  },
  {
   "cell_type": "code",
   "execution_count": 211,
   "id": "4d614ec6-cb0b-4b9b-af8e-302757971c58",
   "metadata": {},
   "outputs": [
    {
     "data": {
      "text/plain": [
       "[[1, 2], [3, 4]]"
      ]
     },
     "execution_count": 211,
     "metadata": {},
     "output_type": "execute_result"
    }
   ],
   "source": [
    "a = [[1,2], [3,4]]\n",
    "a[0][0]\n",
    "a"
   ]
  },
  {
   "cell_type": "markdown",
   "id": "d7169c1c-1b23-41ec-a57c-65c7feea8154",
   "metadata": {},
   "source": [
    "## end\n",
    "Это строка, добавляемая после последнего значения, по умолчанию это новая строка. Это позволяет программисту определять собственный конечный символ для каждого вызова печати, кроме символа новой строки по умолчанию или \\n."
   ]
  },
  {
   "cell_type": "code",
   "execution_count": 196,
   "id": "9ebc8b44-d463-4d94-b133-9b5efd050a05",
   "metadata": {},
   "outputs": [
    {
     "name": "stdout",
     "output_type": "stream",
     "text": [
      "tutorial on\n",
      "python print function\n",
      "-----\n",
      "tutorial onn python print function\n",
      "-----\n"
     ]
    }
   ],
   "source": [
    "str1 = 'tutorial on'\n",
    "str2 = 'python print function'\n",
    "print(str1)\n",
    "print(str2)\n",
    "print('-----')\n",
    "print(str1,end='n ')\n",
    "print(str2)\n",
    "print('-----')"
   ]
  },
  {
   "cell_type": "markdown",
   "id": "219af021-5c87-41c3-8b03-d99e78c394da",
   "metadata": {},
   "source": [
    "## file \n",
    "Файловый объект (поток) по умолчанию используется текущий sys.stdout. Здесь вы можете указать файл, в который вы хотите записать или добавить вывод функции печати."
   ]
  },
  {
   "cell_type": "code",
   "execution_count": 197,
   "id": "cbe6d162-6e42-4857-8126-b85b3b8fa86f",
   "metadata": {},
   "outputs": [],
   "source": [
    "file = open('print1.txt','a+')\n",
    "values = [1,2,3,4,5]\n",
    "for i in values:\n",
    "    print(i, file=file)\n",
    "file.close()"
   ]
  },
  {
   "cell_type": "markdown",
   "id": "b5955a5f-21dc-43c0-b52a-f8b51a2e38ef",
   "metadata": {},
   "source": [
    "## format\n",
    "Вы можете использовать format аргумент, в котором вы можете передать столько переменных, сколько хотите распечатать. Когда вы передаете переменные в функции форматирования, вам необходимо указать номера индексов (порядок, в котором они помещаются внутри аргумента формата) в предопределенной строке. Итак, эта функция печати теперь будет выступать в качестве шаблона для вас."
   ]
  },
  {
   "cell_type": "code",
   "execution_count": 198,
   "id": "a1cd8312-248e-4c0b-b363-318693c87ab1",
   "metadata": {},
   "outputs": [
    {
     "name": "stdout",
     "output_type": "stream",
     "text": [
      "tutorial on python print function\n",
      "-----\n",
      "tutorial on python print function\n"
     ]
    }
   ],
   "source": [
    "a = 'tutorial'\n",
    "b = 'print'\n",
    "print(a, 'on','python', b, 'function')\n",
    "print('-----')\n",
    "\n",
    "print('{0} on python {1} function'.format(a,b))"
   ]
  },
  {
   "cell_type": "markdown",
   "id": "059ee86d-e29d-4d90-bf64-e3cd687ba68e",
   "metadata": {},
   "source": [
    "## %\n",
    "Подобно format аргументу, в котором ваша функция печати действует как шаблон, у вас есть знак процента (%), который вы можете использовать для печати значений переменных\n",
    "\n",
    "%d используется как заполнитель для числовых или десятичных значений.\n",
    "\n",
    "%s используется как заполнитель для строк"
   ]
  },
  {
   "cell_type": "code",
   "execution_count": 199,
   "id": "4c9cd023-337c-445e-93d5-c91198e44154",
   "metadata": {},
   "outputs": [
    {
     "name": "stdout",
     "output_type": "stream",
     "text": [
      "10 is a number and print is a string\n",
      "-----\n",
      "10 is a number and print is a string\n"
     ]
    },
    {
     "ename": "TypeError",
     "evalue": "%d format: a number is required, not str",
     "output_type": "error",
     "traceback": [
      "\u001b[1;31m---------------------------------------------------------------------------\u001b[0m",
      "\u001b[1;31mTypeError\u001b[0m                                 Traceback (most recent call last)",
      "\u001b[1;32m<ipython-input-199-46cfa93fc0d2>\u001b[0m in \u001b[0;36m<module>\u001b[1;34m\u001b[0m\n\u001b[0;32m      4\u001b[0m \u001b[0mprint\u001b[0m\u001b[1;33m(\u001b[0m\u001b[1;34m'-----'\u001b[0m\u001b[1;33m)\u001b[0m\u001b[1;33m\u001b[0m\u001b[1;33m\u001b[0m\u001b[0m\n\u001b[0;32m      5\u001b[0m \u001b[0mprint\u001b[0m\u001b[1;33m(\u001b[0m\u001b[1;34m\"%s is a number and %s is a string\"\u001b[0m\u001b[1;33m%\u001b[0m\u001b[1;33m(\u001b[0m\u001b[0ma\u001b[0m\u001b[1;33m,\u001b[0m\u001b[0mb\u001b[0m\u001b[1;33m)\u001b[0m\u001b[1;33m)\u001b[0m\u001b[1;33m\u001b[0m\u001b[1;33m\u001b[0m\u001b[0m\n\u001b[1;32m----> 6\u001b[1;33m \u001b[0mprint\u001b[0m\u001b[1;33m(\u001b[0m\u001b[1;34m\"%d is a number and %d is a string\"\u001b[0m\u001b[1;33m%\u001b[0m\u001b[1;33m(\u001b[0m\u001b[0ma\u001b[0m\u001b[1;33m,\u001b[0m\u001b[0mb\u001b[0m\u001b[1;33m)\u001b[0m\u001b[1;33m)\u001b[0m\u001b[1;33m\u001b[0m\u001b[1;33m\u001b[0m\u001b[0m\n\u001b[0m",
      "\u001b[1;31mTypeError\u001b[0m: %d format: a number is required, not str"
     ]
    }
   ],
   "source": [
    "a = 10\n",
    "b = \"print\"\n",
    "print(\"%d is a number and %s is a string\"%(a,b))\n",
    "print('-----')\n",
    "print(\"%s is a number and %s is a string\"%(a,b))\n",
    "print(\"%d is a number and %d is a string\"%(a,b))\n"
   ]
  },
  {
   "cell_type": "code",
   "execution_count": 200,
   "id": "5d4ec83f-a27d-488f-b87e-8739af39284c",
   "metadata": {},
   "outputs": [
    {
     "name": "stdout",
     "output_type": "stream",
     "text": [
      "<class 'int'>\n",
      "<class 'str'>\n"
     ]
    }
   ],
   "source": [
    "a = 10\n",
    "print(type(a))\n",
    "b = str(a)\n",
    "print(type(b))"
   ]
  },
  {
   "cell_type": "markdown",
   "id": "af99bd9e-f422-4090-8c2f-541d50a30599",
   "metadata": {},
   "source": [
    "## литералы (префиксы)\n",
    "часто используемые \n",
    "\n",
    "(для более подробного изучения вопроса можно заглянуть [сюда](https://docs.python.org/3/reference/lexical_analysis.html#string-and-bytes-literals) )"
   ]
  },
  {
   "cell_type": "code",
   "execution_count": 201,
   "id": "419b658b-f8e5-4753-8ec9-fad19ce09974",
   "metadata": {},
   "outputs": [
    {
     "name": "stdout",
     "output_type": "stream",
     "text": [
      "tutorial  on python print function\n"
     ]
    }
   ],
   "source": [
    "# python > 3.6\n",
    "a = 'tutorial '\n",
    "b = 'print'\n",
    "print(f'{a} on python {b} function')"
   ]
  },
  {
   "cell_type": "code",
   "execution_count": 202,
   "id": "c5c553e6-5fe1-461a-bd6e-492d652b0690",
   "metadata": {},
   "outputs": [
    {
     "name": "stdout",
     "output_type": "stream",
     "text": [
      "tutorial\n",
      " on python \n",
      "print function\n",
      "-----\n",
      "tutorial\t on python\t print function\n"
     ]
    }
   ],
   "source": [
    "print('tutorial\\n on python \\nprint function')\n",
    "print('-----')\n",
    "print('tutorial\\t on python\\t print function')"
   ]
  },
  {
   "cell_type": "code",
   "execution_count": 203,
   "id": "aad96070-788e-47bf-803d-040eb77d3bcb",
   "metadata": {},
   "outputs": [
    {
     "name": "stdout",
     "output_type": "stream",
     "text": [
      "a\n",
      "b\n",
      "-----\n",
      "a\\nb\n"
     ]
    }
   ],
   "source": [
    "print('a\\nb')\n",
    "print('-----')\n",
    "print(r'a\\nb')"
   ]
  },
  {
   "cell_type": "code",
   "execution_count": 204,
   "id": "f1765443-159c-4861-a69e-b929a92ce8b0",
   "metadata": {},
   "outputs": [
    {
     "data": {
      "text/plain": [
       "'Это очень длинная строка, которая не может содержать символы переноса - \"\\n\", и можно подумать, что в програмном коде она должна храниться именно в таком виде. Но на самом деле это не так.'"
      ]
     },
     "execution_count": 204,
     "metadata": {},
     "output_type": "execute_result"
    }
   ],
   "source": [
    "s = 'Это очень длинная строка, которая не может содержать символы переноса - \"\\n\", и можно ' + \\\n",
    "    'подумать, что в програмном коде она должна ' + \\\n",
    "    'храниться именно в таком виде. Но ' + \\\n",
    "    'на самом деле это не так.'\n",
    "s"
   ]
  },
  {
   "cell_type": "code",
   "execution_count": null,
   "id": "20ac5a4c-674b-453e-ac49-3051cd70afb9",
   "metadata": {},
   "outputs": [],
   "source": []
  },
  {
   "cell_type": "code",
   "execution_count": 207,
   "id": "ff8d0764-9d4b-4d56-b2b3-035c53a6990d",
   "metadata": {},
   "outputs": [
    {
     "ename": "SyntaxError",
     "evalue": "invalid syntax (<ipython-input-207-3e2f19f678ef>, line 3)",
     "output_type": "error",
     "traceback": [
      "\u001b[1;36m  File \u001b[1;32m\"<ipython-input-207-3e2f19f678ef>\"\u001b[1;36m, line \u001b[1;32m3\u001b[0m\n\u001b[1;33m    if :\u001b[0m\n\u001b[1;37m       ^\u001b[0m\n\u001b[1;31mSyntaxError\u001b[0m\u001b[1;31m:\u001b[0m invalid syntax\n"
     ]
    }
   ],
   "source": [
    "a = 1\n",
    "b = 2\n",
    "if :\n",
    "    print('dfsv')\n",
    "else:\n",
    "    print('dfvs')"
   ]
  },
  {
   "cell_type": "code",
   "execution_count": null,
   "id": "a6d7288c-c06a-4a49-b295-d7a8a8159b8f",
   "metadata": {},
   "outputs": [],
   "source": []
  },
  {
   "cell_type": "code",
   "execution_count": null,
   "id": "b05cf40f-d976-43ee-b261-458710cff45f",
   "metadata": {},
   "outputs": [],
   "source": []
  },
  {
   "cell_type": "code",
   "execution_count": null,
   "id": "87a3de79-7307-44a1-8e1e-82b366c8be2e",
   "metadata": {},
   "outputs": [],
   "source": []
  }
 ],
 "metadata": {
  "kernelspec": {
   "display_name": "Python 3",
   "language": "python",
   "name": "python3"
  },
  "language_info": {
   "codemirror_mode": {
    "name": "ipython",
    "version": 3
   },
   "file_extension": ".py",
   "mimetype": "text/x-python",
   "name": "python",
   "nbconvert_exporter": "python",
   "pygments_lexer": "ipython3",
   "version": "3.8.8"
  },
  "toc-autonumbering": true
 },
 "nbformat": 4,
 "nbformat_minor": 5
}
